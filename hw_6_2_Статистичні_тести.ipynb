{
 "cells": [
  {
   "cell_type": "markdown",
   "id": "e152f6d6",
   "metadata": {
    "ExecuteTime": {
     "end_time": "2022-12-10T14:29:24.703416Z",
     "start_time": "2022-12-10T14:29:24.688485Z"
    },
    "id": "e152f6d6"
   },
   "source": [
    "## Домашнє завдання 6: Статистичні тести"
   ]
  },
  {
   "cell_type": "markdown",
   "id": "cd404683",
   "metadata": {
    "id": "cd404683"
   },
   "source": [
    "0. Зчитайте дані з `data.csv` та запишіть значення колонки data у форматі np.ndarray в змінну data. Ми будемо далі працювати з цією змінною."
   ]
  },
  {
   "cell_type": "code",
   "execution_count": 9,
   "id": "a8M1Xqa3hInl",
   "metadata": {
    "id": "a8M1Xqa3hInl"
   },
   "outputs": [],
   "source": [
    "import pandas as pd\n",
    "import numpy as np"
   ]
  },
  {
   "cell_type": "code",
   "execution_count": 31,
   "id": "3d4b65ca-37ac-4187-960a-47f0ffde0468",
   "metadata": {},
   "outputs": [],
   "source": [
    "d = pd.read_csv('/Users/alinagajdun/Documents/python for DA/Lecture/Статистика/data_statistics/data.csv')"
   ]
  },
  {
   "cell_type": "code",
   "execution_count": 35,
   "id": "d694a62e-1308-4464-919a-147c88a22905",
   "metadata": {},
   "outputs": [
    {
     "data": {
      "text/plain": [
       "Index(['Unnamed: 0', 'data'], dtype='object')"
      ]
     },
     "execution_count": 35,
     "metadata": {},
     "output_type": "execute_result"
    }
   ],
   "source": [
    "d.columns"
   ]
  },
  {
   "cell_type": "code",
   "execution_count": 59,
   "id": "983d5168-8810-4046-92bc-64e7a883b215",
   "metadata": {},
   "outputs": [],
   "source": [
    "data = np.array(d['data'])"
   ]
  },
  {
   "cell_type": "markdown",
   "id": "3d06cbbf",
   "metadata": {
    "id": "3d06cbbf"
   },
   "source": [
    "Запустіть код нижче. Для коректної робити всіх подальших методів дані мають бути у вигляді одновимірного вектора, тобто мати розмір (100,)."
   ]
  },
  {
   "cell_type": "code",
   "execution_count": 61,
   "id": "Rc_cM9TfhJYI",
   "metadata": {
    "id": "Rc_cM9TfhJYI"
   },
   "outputs": [
    {
     "data": {
      "text/plain": [
       "(100,)"
      ]
     },
     "execution_count": 61,
     "metadata": {},
     "output_type": "execute_result"
    }
   ],
   "source": [
    "data.shape"
   ]
  },
  {
   "cell_type": "code",
   "execution_count": 65,
   "id": "8ecdf7fd-1f2d-4b5b-a402-2c298ff68d80",
   "metadata": {},
   "outputs": [
    {
     "data": {
      "text/plain": [
       "(array([17.49945292, 19.66239904,  7.18282343, 29.84162485,  9.23938649,\n",
       "        14.94951581, 23.0172885 , 12.52827148, 13.65228669, 14.54595431,\n",
       "        23.30872427, 33.75324808, 20.24923636, 13.29244733, 23.23434992,\n",
       "        16.4230418 , 19.88521702, 27.05000732, 15.5127743 , 20.05415151,\n",
       "        14.73135264, 19.06139498, 21.53942271, 14.06732571, 17.9670682 ,\n",
       "        18.58289581, 16.17406993, 12.87432628, 11.47269664, 19.07902883,\n",
       "        18.38565824, 33.38820073,  5.39139454, 20.67635903, 22.22266722,\n",
       "        28.15780318, 23.01114324, 14.93471778, 20.00005857, 23.25411543,\n",
       "        18.11895082, 24.62607043,  8.79145607, 30.387108  , 28.80606806,\n",
       "        17.98593597, 23.66804468, 20.28782355, 15.02518827, 20.52626131,\n",
       "        26.00219532, 17.71344489, 17.74598346, 19.55317542, 22.60097798,\n",
       "        27.67027538, 16.19192417, 23.05037746, 21.29669604,  8.84832568,\n",
       "        17.48410111, 19.20602661, 19.76257856, 21.9560206 ,  7.75806171,\n",
       "        20.27753314, 15.93394654, 11.36336584, 23.14577858, 24.41167746,\n",
       "        16.08049839, 25.05473769, 17.71090111, 20.39893405, 13.40756632,\n",
       "        29.50692234,  4.04330326, 19.45128426, 24.17071763,  7.79920072,\n",
       "        18.86318441, 19.53668801, 24.94821803, 27.48927752, 17.57664638,\n",
       "        11.692888  , 28.20341254, 27.3073138 , 17.22796791, 22.10533096,\n",
       "        22.2911974 , 23.39765265, 21.22524787, 28.44017745,  9.57224297,\n",
       "        26.24494372, 22.28283182, 18.69718839, 27.04118899,  5.93838085]),\n",
       " numpy.ndarray)"
      ]
     },
     "execution_count": 65,
     "metadata": {},
     "output_type": "execute_result"
    }
   ],
   "source": [
    "data, type(data)"
   ]
  },
  {
   "cell_type": "markdown",
   "id": "abdcef5d",
   "metadata": {
    "id": "abdcef5d"
   },
   "source": [
    "1. Зчитані дані - це сума покупок в доларах наших покупців на сайті протягом липня 2022 року.\n",
    "\n",
    "До цього місяця, ми мали продажі в середньому на чек $20. Чи вийшло у нас статистично значущо **підвищити** середній чек за останній місяць?\n",
    "\n",
    "Оберіть статистичний тест (z-test чи t-test). Виведіть p-значення статистичного тесту та зробіть висновок, чи ми маємо зараз статистично значущу різницю у розмірі середнього чеку.\n",
    "\n",
    "**Підказка**: тут тест буде одновибірковий."
   ]
  },
  {
   "cell_type": "markdown",
   "id": "d9496fd1-c839-4185-95f2-f80e8368c122",
   "metadata": {
    "id": "XhxcSbYqhLz9"
   },
   "source": [
    "from statsmodels.stats.weightstats import ztest"
   ]
  },
  {
   "cell_type": "code",
   "execution_count": 96,
   "id": "103f2f1a-4511-4cad-a1f2-7b85d1ee0f0d",
   "metadata": {},
   "outputs": [
    {
     "name": "stdout",
     "output_type": "stream",
     "text": [
      "Z-test: (30.986429134642414, 8.212684717166785e-211) \n",
      "Вибіркове середнє продажів в липні: 19.37755319670441\n"
     ]
    }
   ],
   "source": [
    "print(f'Z-test: {ztest(data)}', f'\\nВибіркове середнє продажів в липні: {np.mean(data)}')"
   ]
  },
  {
   "cell_type": "code",
   "execution_count": 80,
   "id": "360acafe-bb87-4ff0-b026-7d591aa96aa9",
   "metadata": {},
   "outputs": [
    {
     "name": "stdout",
     "output_type": "stream",
     "text": [
      "Статистично значущий результат. P-value = 8.212684717166785e-211\n"
     ]
    }
   ],
   "source": [
    "alpha = 0.05\n",
    "p_value = ztest(data)[1]\n",
    "\n",
    "if p_value < alpha:\n",
    "    print(f'Статистично значущий результат. P-value = {p_value}')\n",
    "else:\n",
    "    print(f'Немає статистичної значущості. P-value = {p_value}')"
   ]
  },
  {
   "cell_type": "markdown",
   "id": "05219e41",
   "metadata": {
    "ExecuteTime": {
     "end_time": "2022-12-10T14:52:46.140204Z",
     "start_time": "2022-12-10T14:52:46.112068Z"
    },
    "id": "05219e41"
   },
   "source": [
    "2. Пройшов час, і ми зібрали дані про продажі за серпень 2022 року, які зберігли у файл `data_2.csv`. Продажів було дещо більше, але чи змінився стат. значущо середній чек порівняно з липнем 2022? Перевірте це використовуючи ztest.\n",
    "\n",
    "  Виведіть p-значення статистичного тесту та зробіть висновок, чи ми маємо зараз статистично значущу різницю у розмірі середнього чека між двома місяцями.\n",
    "\n",
    "  **Підказка**: треба провести двовибірковий ztest з Н0 - що середні значення в липні та серпні 2022 року - однакові. Для кращого розуміння ситуації, можливо вам буде цікаво переглянути, які середні показники чеку були в кожен з місяців. Порівняйте свій висновок з простого спостереження середніх значень і висновок статистичного тесту. Чи вони збігаються?"
   ]
  },
  {
   "cell_type": "code",
   "execution_count": 82,
   "id": "hbs7LPI4hP-6",
   "metadata": {
    "id": "hbs7LPI4hP-6"
   },
   "outputs": [],
   "source": [
    "s = pd.read_csv('/Users/alinagajdun/Documents/python for DA/Lecture/Статистика/data_statistics/data_2.csv')"
   ]
  },
  {
   "cell_type": "code",
   "execution_count": 90,
   "id": "aae58f2b-aa23-468d-ab35-0210aa10105d",
   "metadata": {},
   "outputs": [],
   "source": [
    "data_aug = np.array(s['data'])"
   ]
  },
  {
   "cell_type": "code",
   "execution_count": 100,
   "id": "551d01bc-610f-4399-94bd-dac9dddbd268",
   "metadata": {},
   "outputs": [
    {
     "name": "stdout",
     "output_type": "stream",
     "text": [
      "Z-test:(0.005246673456808504, 0.9958137794593356) \n",
      "Вибіркове середнє продажів в серпні: 19.37322276512519\n"
     ]
    }
   ],
   "source": [
    "print(f'Z-test:{ztest(data,data_aug, value=0)}', f'\\nВибіркове середнє продажів в серпні: {np.mean(data_aug)}')"
   ]
  },
  {
   "cell_type": "code",
   "execution_count": 110,
   "id": "06d53acc-a673-44dd-a791-d3ed7f4699be",
   "metadata": {},
   "outputs": [],
   "source": [
    "p_value1 = ztest(data,data_aug, value=0)[1]"
   ]
  },
  {
   "cell_type": "code",
   "execution_count": 112,
   "id": "01e73b0a-cdd2-4bab-bb6e-e23ba2060c08",
   "metadata": {},
   "outputs": [
    {
     "name": "stdout",
     "output_type": "stream",
     "text": [
      "Немає статистичної значущості. P-value = 0.9958137794593356\n"
     ]
    }
   ],
   "source": [
    "if p_value1 < alpha:\n",
    "    print(f'Статистично значущий результат. P-value = {p_value1}')\n",
    "else:\n",
    "    print(f'Немає статистичної значущості. P-value = {p_value1}')"
   ]
  },
  {
   "cell_type": "markdown",
   "id": "e6ee5ff8-86e1-437c-aa33-e0a87a978e9f",
   "metadata": {},
   "source": [
    "Висновок: \n",
    "За результатами досліджень в нас немає статистичної значущості в різниці розміру середнього чеку в липні та серпні. Наша гіпотеза про те що середні чеки однакові - підтверджується. \n",
    "Аналогічна картина спостерігається і за значеннями середніх."
   ]
  },
  {
   "cell_type": "code",
   "execution_count": null,
   "id": "7facd57b-7534-4c47-ae3e-d334bb96a8ef",
   "metadata": {},
   "outputs": [],
   "source": []
  }
 ],
 "metadata": {
  "colab": {
   "provenance": []
  },
  "hide_input": false,
  "kernelspec": {
   "display_name": "Python 3 (ipykernel)",
   "language": "python",
   "name": "python3"
  },
  "language_info": {
   "codemirror_mode": {
    "name": "ipython",
    "version": 3
   },
   "file_extension": ".py",
   "mimetype": "text/x-python",
   "name": "python",
   "nbconvert_exporter": "python",
   "pygments_lexer": "ipython3",
   "version": "3.12.4"
  },
  "toc": {
   "base_numbering": 1,
   "nav_menu": {},
   "number_sections": true,
   "sideBar": true,
   "skip_h1_title": false,
   "title_cell": "Table of Contents",
   "title_sidebar": "Contents",
   "toc_cell": false,
   "toc_position": {},
   "toc_section_display": true,
   "toc_window_display": false
  },
  "varInspector": {
   "cols": {
    "lenName": 16,
    "lenType": 16,
    "lenVar": 40
   },
   "kernels_config": {
    "python": {
     "delete_cmd_postfix": "",
     "delete_cmd_prefix": "del ",
     "library": "var_list.py",
     "varRefreshCmd": "print(var_dic_list())"
    },
    "r": {
     "delete_cmd_postfix": ") ",
     "delete_cmd_prefix": "rm(",
     "library": "var_list.r",
     "varRefreshCmd": "cat(var_dic_list()) "
    }
   },
   "types_to_exclude": [
    "module",
    "function",
    "builtin_function_or_method",
    "instance",
    "_Feature"
   ],
   "window_display": false
  }
 },
 "nbformat": 4,
 "nbformat_minor": 5
}
