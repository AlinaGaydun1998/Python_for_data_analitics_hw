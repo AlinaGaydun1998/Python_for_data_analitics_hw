{
 "cells": [
  {
   "cell_type": "markdown",
   "metadata": {
    "id": "ivUvJDdxKaHi"
   },
   "source": [
    "#Завдання на використання Pandas + SQL"
   ]
  },
  {
   "cell_type": "markdown",
   "metadata": {
    "id": "BWdQdn3IKQ_M"
   },
   "source": [
    "В змінній `con` створіть підключення до бази даних employees за аналогією того, як це робили в попередній домашці:"
   ]
  },
  {
   "cell_type": "code",
   "execution_count": 2,
   "metadata": {
    "id": "wj7hmp0-KZlV"
   },
   "outputs": [],
   "source": [
    "import mysql.connector\n",
    "from mysql.connector.connection import MySQLConnection"
   ]
  },
  {
   "cell_type": "code",
   "execution_count": 12,
   "metadata": {},
   "outputs": [],
   "source": [
    "con = mysql.connector.connect(user='root', password='21rSNSTBTLVTLV',\n",
    "                             host='127.0.0.1', database='employees')"
   ]
  },
  {
   "cell_type": "markdown",
   "metadata": {
    "id": "x09jzXh2MitM"
   },
   "source": [
    "1. Виведіть кількість співробітників за роком, в який вони були найняті (hire_date) використовуючи pandas.read_sql. Запишіть результат в змінну df та виведіть значення змінної на екран."
   ]
  },
  {
   "cell_type": "code",
   "execution_count": 55,
   "metadata": {
    "id": "NFM8gv4aMiY1"
   },
   "outputs": [],
   "source": [
    "import pandas as pd\n",
    "import warnings\n",
    "\n",
    "warnings.filterwarnings('ignore')"
   ]
  },
  {
   "cell_type": "code",
   "execution_count": 85,
   "metadata": {},
   "outputs": [],
   "source": [
    "employees_year = \"\"\"\n",
    "SELECT YEAR(hire_date)  as hire_year, COUNT(emp_no) as amount_employees \n",
    "FROM employees \n",
    "GROUP BY YEAR(hire_date)\n",
    "ORDER BY hire_year ASC\n",
    "\"\"\""
   ]
  },
  {
   "cell_type": "code",
   "execution_count": 87,
   "metadata": {},
   "outputs": [],
   "source": [
    "df = pd.read_sql(employees_year, con)"
   ]
  },
  {
   "cell_type": "code",
   "execution_count": 89,
   "metadata": {},
   "outputs": [
    {
     "data": {
      "text/html": [
       "<div>\n",
       "<style scoped>\n",
       "    .dataframe tbody tr th:only-of-type {\n",
       "        vertical-align: middle;\n",
       "    }\n",
       "\n",
       "    .dataframe tbody tr th {\n",
       "        vertical-align: top;\n",
       "    }\n",
       "\n",
       "    .dataframe thead th {\n",
       "        text-align: right;\n",
       "    }\n",
       "</style>\n",
       "<table border=\"1\" class=\"dataframe\">\n",
       "  <thead>\n",
       "    <tr style=\"text-align: right;\">\n",
       "      <th></th>\n",
       "      <th>hire_year</th>\n",
       "      <th>amount_employees</th>\n",
       "    </tr>\n",
       "  </thead>\n",
       "  <tbody>\n",
       "    <tr>\n",
       "      <th>0</th>\n",
       "      <td>1985</td>\n",
       "      <td>35316</td>\n",
       "    </tr>\n",
       "    <tr>\n",
       "      <th>1</th>\n",
       "      <td>1986</td>\n",
       "      <td>36150</td>\n",
       "    </tr>\n",
       "    <tr>\n",
       "      <th>2</th>\n",
       "      <td>1987</td>\n",
       "      <td>33501</td>\n",
       "    </tr>\n",
       "    <tr>\n",
       "      <th>3</th>\n",
       "      <td>1988</td>\n",
       "      <td>31436</td>\n",
       "    </tr>\n",
       "    <tr>\n",
       "      <th>4</th>\n",
       "      <td>1989</td>\n",
       "      <td>28394</td>\n",
       "    </tr>\n",
       "    <tr>\n",
       "      <th>5</th>\n",
       "      <td>1990</td>\n",
       "      <td>25610</td>\n",
       "    </tr>\n",
       "    <tr>\n",
       "      <th>6</th>\n",
       "      <td>1991</td>\n",
       "      <td>22568</td>\n",
       "    </tr>\n",
       "    <tr>\n",
       "      <th>7</th>\n",
       "      <td>1992</td>\n",
       "      <td>20402</td>\n",
       "    </tr>\n",
       "    <tr>\n",
       "      <th>8</th>\n",
       "      <td>1993</td>\n",
       "      <td>17772</td>\n",
       "    </tr>\n",
       "    <tr>\n",
       "      <th>9</th>\n",
       "      <td>1994</td>\n",
       "      <td>14835</td>\n",
       "    </tr>\n",
       "    <tr>\n",
       "      <th>10</th>\n",
       "      <td>1995</td>\n",
       "      <td>12115</td>\n",
       "    </tr>\n",
       "    <tr>\n",
       "      <th>11</th>\n",
       "      <td>1996</td>\n",
       "      <td>9574</td>\n",
       "    </tr>\n",
       "    <tr>\n",
       "      <th>12</th>\n",
       "      <td>1997</td>\n",
       "      <td>6669</td>\n",
       "    </tr>\n",
       "    <tr>\n",
       "      <th>13</th>\n",
       "      <td>1998</td>\n",
       "      <td>4155</td>\n",
       "    </tr>\n",
       "    <tr>\n",
       "      <th>14</th>\n",
       "      <td>1999</td>\n",
       "      <td>1514</td>\n",
       "    </tr>\n",
       "    <tr>\n",
       "      <th>15</th>\n",
       "      <td>2000</td>\n",
       "      <td>13</td>\n",
       "    </tr>\n",
       "  </tbody>\n",
       "</table>\n",
       "</div>"
      ],
      "text/plain": [
       "    hire_year  amount_employees\n",
       "0        1985             35316\n",
       "1        1986             36150\n",
       "2        1987             33501\n",
       "3        1988             31436\n",
       "4        1989             28394\n",
       "5        1990             25610\n",
       "6        1991             22568\n",
       "7        1992             20402\n",
       "8        1993             17772\n",
       "9        1994             14835\n",
       "10       1995             12115\n",
       "11       1996              9574\n",
       "12       1997              6669\n",
       "13       1998              4155\n",
       "14       1999              1514\n",
       "15       2000                13"
      ]
     },
     "execution_count": 89,
     "metadata": {},
     "output_type": "execute_result"
    }
   ],
   "source": [
    "df"
   ]
  },
  {
   "cell_type": "markdown",
   "metadata": {
    "id": "RNA4i6kCMnlY"
   },
   "source": [
    "Очікуваний результат:\n",
    "\n",
    "![](https://drive.google.com/uc?export=view&id=1JmyPlxFwRRxuCJ33VN-AqMDPSdV_DPXI)"
   ]
  },
  {
   "cell_type": "markdown",
   "metadata": {
    "id": "RKy022bqJqlu"
   },
   "source": [
    "2. Виведіть лінійний графік залежності кількості найманих співробітників від року найму. Ми ж не просто так дані з бази дістали :)\n",
    "Перейменувати назви колонок датафрейму можна або методами pandas, або в sql запиті в попередньому завданні. Також, аби графік вийшов правильний, треба відсортувати роки за зростанням. І це також можна зробити аби в pandas, або в SQL."
   ]
  },
  {
   "cell_type": "code",
   "execution_count": 75,
   "metadata": {
    "id": "IKZLjCZcJr3x"
   },
   "outputs": [],
   "source": [
    "import matplotlib.pyplot as plt "
   ]
  },
  {
   "cell_type": "code",
   "execution_count": 91,
   "metadata": {},
   "outputs": [
    {
     "data": {
      "image/png": "[encoded data removed]",
      "text/plain": [
       "<Figure size 800x500 with 1 Axes>"
      ]
     },
     "metadata": {},
     "output_type": "display_data"
    }
   ],
   "source": [
    "df.plot('hire_year', 'amount_employees', figsize = (8,5))\n",
    "plt.title('Кількість найманих працівників по рокам')\n",
    "plt.xlabel('Рік найму')\n",
    "plt.ylabel('Кількість найманих працівників');"
   ]
  },
  {
   "cell_type": "markdown",
   "metadata": {
    "id": "N0_8D0xLM2AW"
   },
   "source": [
    "Очікуваний результат:\n",
    "\n",
    "![](https://drive.google.com/uc?export=view&id=1vXUpPNNvIL5dxsypr9sklvtq-H-NDwzU)"
   ]
  },
  {
   "cell_type": "markdown",
   "metadata": {
    "id": "8ert0tBvJsTZ"
   },
   "source": [
    "3. З допомогою SQL для робітників позиції `Engineer`, які вже не працюють в компанії (тобто у них є значення to_date, яке заповнено НЕ значенням за замовчанням) знайдіть кількість повних років перебування на позиції. Позиція зберігається в колонці `title` в таблиці `titles`. Кількість років перебування на позиції можна отримати наприклад з використанням функції `timestampdiff`. Ознайомтесь з її використанням в [документації](https://dev.mysql.com/doc/refman/8.0/en/date-and-time-functions.html#function_timestampdiff).\n",
    "\n",
    "Результат запишіть в змінну `df_years` та виведіть цю змінну на екран."
   ]
  },
  {
   "cell_type": "code",
   "execution_count": 127,
   "metadata": {},
   "outputs": [],
   "source": [
    "eng_diff_year = \"\"\"\n",
    "SELECT \n",
    "    emp_no,\n",
    "    from_date,\n",
    "    to_date,\n",
    "    TIMESTAMPDIFF (YEAR, from_date, to_date) as work_year\n",
    "FROM titles \n",
    "WHERE title = \"Engineer\" AND to_date != \"9999-01-01\"\n",
    "\"\"\""
   ]
  },
  {
   "cell_type": "code",
   "execution_count": 136,
   "metadata": {},
   "outputs": [
    {
     "data": {
      "text/html": [
       "<div>\n",
       "<style scoped>\n",
       "    .dataframe tbody tr th:only-of-type {\n",
       "        vertical-align: middle;\n",
       "    }\n",
       "\n",
       "    .dataframe tbody tr th {\n",
       "        vertical-align: top;\n",
       "    }\n",
       "\n",
       "    .dataframe thead th {\n",
       "        text-align: right;\n",
       "    }\n",
       "</style>\n",
       "<table border=\"1\" class=\"dataframe\">\n",
       "  <thead>\n",
       "    <tr style=\"text-align: right;\">\n",
       "      <th></th>\n",
       "      <th>emp_no</th>\n",
       "      <th>from_date</th>\n",
       "      <th>to_date</th>\n",
       "      <th>work_year</th>\n",
       "    </tr>\n",
       "  </thead>\n",
       "  <tbody>\n",
       "    <tr>\n",
       "      <th>0</th>\n",
       "      <td>10004</td>\n",
       "      <td>1986-12-01</td>\n",
       "      <td>1995-12-01</td>\n",
       "      <td>9</td>\n",
       "    </tr>\n",
       "    <tr>\n",
       "      <th>1</th>\n",
       "      <td>10009</td>\n",
       "      <td>1990-02-18</td>\n",
       "      <td>1995-02-18</td>\n",
       "      <td>5</td>\n",
       "    </tr>\n",
       "    <tr>\n",
       "      <th>2</th>\n",
       "      <td>10012</td>\n",
       "      <td>1992-12-18</td>\n",
       "      <td>2000-12-18</td>\n",
       "      <td>8</td>\n",
       "    </tr>\n",
       "    <tr>\n",
       "      <th>3</th>\n",
       "      <td>10018</td>\n",
       "      <td>1987-04-03</td>\n",
       "      <td>1995-04-03</td>\n",
       "      <td>8</td>\n",
       "    </tr>\n",
       "    <tr>\n",
       "      <th>4</th>\n",
       "      <td>10026</td>\n",
       "      <td>1995-03-20</td>\n",
       "      <td>2001-03-19</td>\n",
       "      <td>5</td>\n",
       "    </tr>\n",
       "    <tr>\n",
       "      <th>...</th>\n",
       "      <td>...</td>\n",
       "      <td>...</td>\n",
       "      <td>...</td>\n",
       "      <td>...</td>\n",
       "    </tr>\n",
       "    <tr>\n",
       "      <th>84015</th>\n",
       "      <td>499972</td>\n",
       "      <td>1989-11-23</td>\n",
       "      <td>1998-11-23</td>\n",
       "      <td>9</td>\n",
       "    </tr>\n",
       "    <tr>\n",
       "      <th>84016</th>\n",
       "      <td>499984</td>\n",
       "      <td>1989-07-30</td>\n",
       "      <td>1994-07-30</td>\n",
       "      <td>5</td>\n",
       "    </tr>\n",
       "    <tr>\n",
       "      <th>84017</th>\n",
       "      <td>499994</td>\n",
       "      <td>1993-02-22</td>\n",
       "      <td>1993-10-27</td>\n",
       "      <td>0</td>\n",
       "    </tr>\n",
       "    <tr>\n",
       "      <th>84018</th>\n",
       "      <td>499996</td>\n",
       "      <td>1996-05-13</td>\n",
       "      <td>2002-05-13</td>\n",
       "      <td>6</td>\n",
       "    </tr>\n",
       "    <tr>\n",
       "      <th>84019</th>\n",
       "      <td>499997</td>\n",
       "      <td>1987-08-30</td>\n",
       "      <td>1992-08-29</td>\n",
       "      <td>4</td>\n",
       "    </tr>\n",
       "  </tbody>\n",
       "</table>\n",
       "<p>84020 rows × 4 columns</p>\n",
       "</div>"
      ],
      "text/plain": [
       "       emp_no   from_date     to_date  work_year\n",
       "0       10004  1986-12-01  1995-12-01          9\n",
       "1       10009  1990-02-18  1995-02-18          5\n",
       "2       10012  1992-12-18  2000-12-18          8\n",
       "3       10018  1987-04-03  1995-04-03          8\n",
       "4       10026  1995-03-20  2001-03-19          5\n",
       "...       ...         ...         ...        ...\n",
       "84015  499972  1989-11-23  1998-11-23          9\n",
       "84016  499984  1989-07-30  1994-07-30          5\n",
       "84017  499994  1993-02-22  1993-10-27          0\n",
       "84018  499996  1996-05-13  2002-05-13          6\n",
       "84019  499997  1987-08-30  1992-08-29          4\n",
       "\n",
       "[84020 rows x 4 columns]"
      ]
     },
     "execution_count": 136,
     "metadata": {},
     "output_type": "execute_result"
    }
   ],
   "source": [
    "df_years = pd.read_sql(eng_diff_year, con)\n",
    "df_years"
   ]
  },
  {
   "cell_type": "markdown",
   "metadata": {
    "id": "6v5ejqB_NBhY"
   },
   "source": [
    "Очікуваний результат:\n",
    "\n",
    "![](https://drive.google.com/uc?export=view&id=1nBqeBVYFuSQlMx9lNaDJJ_8hMx7yV9bX)"
   ]
  },
  {
   "cell_type": "markdown",
   "metadata": {
    "id": "n3p0vRyxJy6F"
   },
   "source": [
    "4. Використовуючи дані в  `df_years`, побудуйте гістограму кількості років, протягом яких люди з назвою позиції `Engineer` перебували на позиції. Не забудьте дати назву діаграмі, а також підписати вісі."
   ]
  },
  {
   "cell_type": "code",
   "execution_count": 162,
   "metadata": {},
   "outputs": [
    {
     "data": {
      "text/plain": [
       "array([9, 5, 8, 6, 7, 1, 0, 3, 2, 4])"
      ]
     },
     "execution_count": 162,
     "metadata": {},
     "output_type": "execute_result"
    }
   ],
   "source": [
    "df_years['work_year'].unique()"
   ]
  },
  {
   "cell_type": "code",
   "execution_count": 172,
   "metadata": {
    "id": "i99i8zVHJwUc"
   },
   "outputs": [
    {
     "data": {
      "image/png": "[encoded data removed]",
      "text/plain": [
       "<Figure size 640x480 with 1 Axes>"
      ]
     },
     "metadata": {},
     "output_type": "display_data"
    }
   ],
   "source": [
    "df_years['work_year'].hist(bins = 10, color='green', edgecolor='black' )\n",
    "plt.title('Розподіл кількості років роботи на посаді інженера')\n",
    "plt.xlabel('Тривалість перебування на позиції інженера (в роках) ')\n",
    "plt.ylabel('Кількість працівників');"
   ]
  },
  {
   "cell_type": "markdown",
   "metadata": {
    "id": "g_8980MgNL8E"
   },
   "source": [
    "Очікуваний результат:\n",
    "\n",
    "![](https://drive.google.com/uc?export=view&id=1RKbfs5R9oniNs9XJcUpdlXFT-0BKXvPB)"
   ]
  },
  {
   "cell_type": "markdown",
   "metadata": {
    "id": "f-GGILeOJ2zz"
   },
   "source": [
    "НЕ ЗАБУВАЄМО ЗАКРИТИ ПІДКЛЮЧЕННЯ ДО БАЗИ :)"
   ]
  },
  {
   "cell_type": "code",
   "execution_count": 174,
   "metadata": {
    "id": "ovabwjK_J5ac"
   },
   "outputs": [],
   "source": [
    "con.close()"
   ]
  },
  {
   "cell_type": "code",
   "execution_count": null,
   "metadata": {},
   "outputs": [],
   "source": []
  }
 ],
 "metadata": {
  "colab": {
   "provenance": []
  },
  "kernelspec": {
   "display_name": "Python 3 (ipykernel)",
   "language": "python",
   "name": "python3"
  },
  "language_info": {
   "codemirror_mode": {
    "name": "ipython",
    "version": 3
   },
   "file_extension": ".py",
   "mimetype": "text/x-python",
   "name": "python",
   "nbconvert_exporter": "python",
   "pygments_lexer": "ipython3",
   "version": "3.12.4"
  }
 },
 "nbformat": 4,
 "nbformat_minor": 4
}
