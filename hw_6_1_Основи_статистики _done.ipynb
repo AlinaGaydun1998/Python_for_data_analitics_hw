{
 "cells": [
  {
   "cell_type": "markdown",
   "metadata": {
    "id": "SDhaTqxcWhnP"
   },
   "source": [
    "В цьому домашньому завданні відпрацюємо з вами знання, отримані в модулі зі статистики.\n",
    "\n",
    "**Завдання 1.** Ми обговорили з Вами на лекції, що велика літера Сігма грецького алфавіту позначає в математиці суму. Знайдіть з використанням Python $\\Sigma x$, $\\Sigma x^2$, та $\\Sigma (x-1)^2$ для наступного набору даних:\n",
    "`1 3 4`\n",
    "Виведіть результат кожного обчислення на екран."
   ]
  },
  {
   "cell_type": "code",
   "execution_count": 2,
   "metadata": {
    "id": "B1mgx_IBT0e8"
   },
   "outputs": [],
   "source": [
    "x = [1,3,4]"
   ]
  },
  {
   "cell_type": "code",
   "execution_count": 6,
   "metadata": {},
   "outputs": [
    {
     "data": {
      "text/plain": [
       "8"
      ]
     },
     "execution_count": 6,
     "metadata": {},
     "output_type": "execute_result"
    }
   ],
   "source": [
    "sum_x = sum(x)\n",
    "sum_x"
   ]
  },
  {
   "cell_type": "code",
   "execution_count": 34,
   "metadata": {},
   "outputs": [
    {
     "data": {
      "text/plain": [
       "26"
      ]
     },
     "execution_count": 34,
     "metadata": {},
     "output_type": "execute_result"
    }
   ],
   "source": [
    "x_sqr = [x[i]**2 for i in range(len(x))]\n",
    "sum_x_sqr = sum(x_sqr)\n",
    "sum_x_sqr"
   ]
  },
  {
   "cell_type": "code",
   "execution_count": 44,
   "metadata": {},
   "outputs": [
    {
     "data": {
      "text/plain": [
       "13"
      ]
     },
     "execution_count": 44,
     "metadata": {},
     "output_type": "execute_result"
    }
   ],
   "source": [
    "unbiased_x__sqr = [(x[i]-1)**2 for i in range(len(x))]\n",
    "sum_unbiased_x__sqr = sum(unbiased_x__sqr)\n",
    "sum_unbiased_x__sqr"
   ]
  },
  {
   "cell_type": "markdown",
   "metadata": {
    "id": "fa78aW5lhiia"
   },
   "source": [
    "**Завдання 2.** Ми зібрали дані про суму покупок в гривнях 20ма випадково обраними клієнтами в нашому магазині (всього клієнтів у нас більше) за минулий місяць. Вони представлені в змінній `sum_purchases`. Знайдіть **вибіркове середнє** для цих даних кожним з зазначених методів:   \n",
    "\n",
    "  2.1. без використання жодних бібліотек, користуючись тільки Python.  \n",
    "  2.2. використовуючи відповідний метод бібліотеки `numpy`.\n",
    "\n",
    "  Виведіть результат обчислень в кожному з випадків на екран та порівняйте результати. Вони співпадають?"
   ]
  },
  {
   "cell_type": "code",
   "execution_count": 46,
   "metadata": {
    "id": "_9kMt3rq6V5m"
   },
   "outputs": [],
   "source": [
    "sum_purchases = [ 316,  493,  367,  153,  224,  121,  322,  450,  196,  397,  281,\n",
    "  239,  484,  124,  223,  448,  432,  255, 4310, 3524]"
   ]
  },
  {
   "cell_type": "code",
   "execution_count": 54,
   "metadata": {},
   "outputs": [
    {
     "data": {
      "text/plain": [
       "667.95"
      ]
     },
     "execution_count": 54,
     "metadata": {},
     "output_type": "execute_result"
    }
   ],
   "source": [
    "#обчислюємо за допомогою формул\n",
    "\n",
    "total_sum_purchases = sum(sum_purchases)\n",
    "len(sum_purchases)\n",
    "purchases_mean = total_sum_purchases / len(sum_purchases)\n",
    "purchases_mean "
   ]
  },
  {
   "cell_type": "code",
   "execution_count": 48,
   "metadata": {
    "id": "wPmL919HT1c0"
   },
   "outputs": [],
   "source": [
    "import numpy as np"
   ]
  },
  {
   "cell_type": "code",
   "execution_count": 50,
   "metadata": {
    "scrolled": true
   },
   "outputs": [
    {
     "data": {
      "text/plain": [
       "667.95"
      ]
     },
     "execution_count": 50,
     "metadata": {},
     "output_type": "execute_result"
    }
   ],
   "source": [
    "np.mean(sum_purchases) #обчислюємо за допомогою бібліотеки numpy"
   ]
  },
  {
   "cell_type": "markdown",
   "metadata": {
    "id": "FMdoxZd0kZdW"
   },
   "source": [
    "**Завдання 3.** Для того ж набору даних в змінній `sum_purchases` обчисліть **медіану** кожним з зазначених методів:  \n",
    "\n",
    "  3.1. без використання жодних бібліотек, користуючись тільки Python.  \n",
    "  3.2. використовуючи відповідний метод бібліотеки numpy.  \n",
    "\n",
    "Виведіть результат обчислень в кожному з випадків на екран. Порівняйте результати зі значенням вибіркового середнього. Напишіть коментар, для яких задач ви б використовували вибіркове середнє, а для яких - медіану?"
   ]
  },
  {
   "cell_type": "code",
   "execution_count": 57,
   "metadata": {
    "id": "x58BumvuT2nl",
    "scrolled": true
   },
   "outputs": [
    {
     "data": {
      "text/plain": [
       "20"
      ]
     },
     "execution_count": 57,
     "metadata": {},
     "output_type": "execute_result"
    }
   ],
   "source": [
    "len(sum_purchases) #визначаємо чи парна кількість спостережень у вибірці для того щоб знайти медіанне значення"
   ]
  },
  {
   "cell_type": "code",
   "execution_count": 69,
   "metadata": {},
   "outputs": [
    {
     "data": {
      "text/plain": [
       "319.0"
      ]
     },
     "execution_count": 69,
     "metadata": {},
     "output_type": "execute_result"
    }
   ],
   "source": [
    "#обчислюємо за допомогою формул\n",
    "(sorted(sum_purchases)[len(sum_purchases)//2-1] + sorted(sum_purchases)[len(sum_purchases)//2])/2"
   ]
  },
  {
   "cell_type": "code",
   "execution_count": 67,
   "metadata": {},
   "outputs": [
    {
     "data": {
      "text/plain": [
       "319.0"
      ]
     },
     "execution_count": 67,
     "metadata": {},
     "output_type": "execute_result"
    }
   ],
   "source": [
    "#обчислюємо за допомогою бібліотеки numpy\n",
    "np.median(sum_purchases)"
   ]
  },
  {
   "cell_type": "markdown",
   "metadata": {},
   "source": [
    "Оскільки медіана менш чутлива до асиметрії даних, то при невеликих вибірках я би використовувала медіану, а при великих датасетах можна використати і вибіркове середнє, через те що при великому наборі даних буде менший вплив викидів на вибіркове середнє. "
   ]
  },
  {
   "cell_type": "markdown",
   "metadata": {
    "id": "o1Z7az2yNDQV"
   },
   "source": [
    "**Завдання 4**. Обчислість стандартне відхилення наведеної вибірки в змінній `sum_purchases` кожним з зазначених методів:  \n",
    "\n",
    "  4.1. без використання жодних бібліотек, користуючись тільки Python.  \n",
    "  4.2. використовуючи відповідний метод бібліотеки numpy.  \n",
    "\n",
    "Виведіть результат обчислень в кожному з випадків на екран."
   ]
  },
  {
   "cell_type": "code",
   "execution_count": 83,
   "metadata": {},
   "outputs": [],
   "source": [
    "import math"
   ]
  },
  {
   "cell_type": "code",
   "execution_count": 87,
   "metadata": {
    "id": "X4ixtmL2T642"
   },
   "outputs": [
    {
     "data": {
      "text/plain": [
       "1124.5433447451132"
      ]
     },
     "execution_count": 87,
     "metadata": {},
     "output_type": "execute_result"
    }
   ],
   "source": [
    "#обчислюємо за допомогою формул\n",
    "z = [(sum_purchases[i] - purchases_mean)**2 for i in range(len(sum_purchases))]\n",
    "standart_vid = math.sqrt(sum(z)/(len(sum_purchases)-1))\n",
    "standart_vid"
   ]
  },
  {
   "cell_type": "code",
   "execution_count": 93,
   "metadata": {},
   "outputs": [
    {
     "data": {
      "text/plain": [
       "1124.5433447451132"
      ]
     },
     "execution_count": 93,
     "metadata": {},
     "output_type": "execute_result"
    }
   ],
   "source": [
    "#обчислюємо за допомогою бібліотеки numpy\n",
    "np.std(sum_purchases, ddof=1)"
   ]
  },
  {
   "cell_type": "markdown",
   "metadata": {
    "id": "M1ntKTjXLVlH"
   },
   "source": [
    "**Завдання 5**. Ми провели дослідження віку студентів-першокурсників. Виявилось, що\n",
    "- 10 студентів мають вік 16 років\n",
    "- 25 студентів - 17 років\n",
    "- 20 студентів - 18 років\n",
    "- 2 студенти - 20 років\n",
    "\n",
    "Обчислість середнє значення для цієї вибірки будь-яким способом - на чистому Python або з numpy - та виведіть результат на екран."
   ]
  },
  {
   "cell_type": "code",
   "execution_count": 99,
   "metadata": {
    "id": "RdIU4M-7T8R4"
   },
   "outputs": [
    {
     "name": "stdout",
     "output_type": "stream",
     "text": [
      "[16, 16, 16, 16, 16, 16, 16, 16, 16, 16, 17, 17, 17, 17, 17, 17, 17, 17, 17, 17, 17, 17, 17, 17, 17, 17, 17, 17, 17, 17, 17, 17, 17, 17, 17, 18, 18, 18, 18, 18, 18, 18, 18, 18, 18, 18, 18, 18, 18, 18, 18, 18, 18, 18, 18, 20, 20] Розмір вибірки:  57\n"
     ]
    }
   ],
   "source": [
    "students_ages = [16]*10 + [17]*25 + [18]*20 + [20]*2\n",
    "print(students_ages, \"Розмір вибірки: \", len(students_ages))"
   ]
  },
  {
   "cell_type": "code",
   "execution_count": 103,
   "metadata": {},
   "outputs": [
    {
     "name": "stdout",
     "output_type": "stream",
     "text": [
      "Вибіркове середнє:  17.280701754385966 \n",
      "Медіана:  17.0\n"
     ]
    }
   ],
   "source": [
    "print('Вибіркове середнє: ', np.mean(students_ages), '\\nМедіана: ', np.median(students_ages))"
   ]
  },
  {
   "cell_type": "markdown",
   "metadata": {
    "id": "Xx8MFkkVM53z"
   },
   "source": [
    "**Завдання 6**. Крім даних про суму покупок, ми зібрали ще дані про кількість відвідувань кожного з кожного покупця, які знаходяться в змінній `visits`. Обчисліть коефіцієнт кореляції Пірсона для суми покупок і кількості відвідувань кожним з зазначених методів:  \n",
    "\n",
    "  6.1. без використання жодних бібліотек, користуючись тільки Python.  \n",
    "  6.2. використовуючи відповідний метод бібліотеки numpy.  \n",
    "  \n",
    "Виведіть результат на екран. Проаналізуйте результат.\n",
    "\n",
    "Виведіть додатково графік розсіювання викликавши код нижче і зробіть заключення, чи варто щось змінити при підрахунку кореляції, аби коефіцієнт Пірсона показував коректну оцінку лінійної залежності?"
   ]
  },
  {
   "cell_type": "code",
   "execution_count": 105,
   "metadata": {
    "id": "4OIGBT7UOWhO"
   },
   "outputs": [],
   "source": [
    "visits = [ 6,  2, 10,  3,  9,  9,  2,  3,  6,  6, 10,  2,  5, 10,  3,  5,  4,\n",
    "        7,  4,  2]"
   ]
  },
  {
   "cell_type": "code",
   "execution_count": 109,
   "metadata": {},
   "outputs": [
    {
     "data": {
      "text/plain": [
       "20"
      ]
     },
     "execution_count": 109,
     "metadata": {},
     "output_type": "execute_result"
    }
   ],
   "source": [
    "visits_mean = np.mean(visits)\n",
    "len(visits) # перевіряємо чи однакова довжина вибірок"
   ]
  },
  {
   "cell_type": "code",
   "execution_count": 115,
   "metadata": {
    "id": "YLNF7VbeT97Q"
   },
   "outputs": [
    {
     "data": {
      "text/plain": [
       "-990.1368421052633"
      ]
     },
     "execution_count": 115,
     "metadata": {},
     "output_type": "execute_result"
    }
   ],
   "source": [
    "#обчислюємо за допомогою формул коваріацію для суми покупок та кількість відвідувань покупців\n",
    "s_p_v = [(sum_purchases[i] - purchases_mean)*(visits[i] - visits_mean ) for i in range(len(sum_purchases))]\n",
    "cov_p_v = sum(s_p_v)/ (len(sum_purchases) - 1)\n",
    "cov_p_v"
   ]
  },
  {
   "cell_type": "code",
   "execution_count": 113,
   "metadata": {},
   "outputs": [
    {
     "data": {
      "text/plain": [
       "array([[ 1.26459773e+06, -9.90136842e+02],\n",
       "       [-9.90136842e+02,  8.46315789e+00]])"
      ]
     },
     "execution_count": 113,
     "metadata": {},
     "output_type": "execute_result"
    }
   ],
   "source": [
    "np.cov(sum_purchases, visits)"
   ]
  },
  {
   "cell_type": "code",
   "execution_count": 117,
   "metadata": {},
   "outputs": [
    {
     "data": {
      "text/plain": [
       "2.909150717088553"
      ]
     },
     "execution_count": 117,
     "metadata": {},
     "output_type": "execute_result"
    }
   ],
   "source": [
    "#обчислюємо стандартне відхилення для кількості відвідувачів\n",
    "std_visits = np.sqrt(sum([(visits[i] - visits_mean)**2 for i in range(len(visits))]) / (len(visits) - 1))\n",
    "std_visits "
   ]
  },
  {
   "cell_type": "code",
   "execution_count": 121,
   "metadata": {},
   "outputs": [
    {
     "data": {
      "text/plain": [
       "2.9091507170885533"
      ]
     },
     "execution_count": 121,
     "metadata": {},
     "output_type": "execute_result"
    }
   ],
   "source": [
    "np.std(visits,ddof =1) #стандартне відхилення через numpy"
   ]
  },
  {
   "cell_type": "code",
   "execution_count": 125,
   "metadata": {},
   "outputs": [
    {
     "data": {
      "text/plain": [
       "-0.3026584468766646"
      ]
     },
     "execution_count": 125,
     "metadata": {},
     "output_type": "execute_result"
    }
   ],
   "source": [
    "#обчислюємо коефіцієнт кореляції\n",
    "r = cov_p_v/(std_visits*standart_vid)\n",
    "r"
   ]
  },
  {
   "cell_type": "code",
   "execution_count": 127,
   "metadata": {},
   "outputs": [
    {
     "data": {
      "text/plain": [
       "array([[ 1.        , -0.30265845],\n",
       "       [-0.30265845,  1.        ]])"
      ]
     },
     "execution_count": 127,
     "metadata": {},
     "output_type": "execute_result"
    }
   ],
   "source": [
    "#обчислюємо коефіцієнт кореляції зв допомогою numpy\n",
    "np.corrcoef(sum_purchases,visits)"
   ]
  },
  {
   "cell_type": "markdown",
   "metadata": {},
   "source": [
    "Згідно з отриманими результатами коефіцієнт показує що в нас негативна слабка кореляція, тобто при збільшені суми покупок, кількість відвідувачів зменшується. На мою думку, дана гіпотеза звучить не логічно, і я би сказала що оскільки ці дані слабко корелюють, розглядати їх у парі не несе логічного сенсу."
   ]
  },
  {
   "cell_type": "code",
   "execution_count": 133,
   "metadata": {
    "colab": {
     "base_uri": "https://localhost:8080/",
     "height": 472
    },
    "id": "gaeoGA-5Prr1",
    "outputId": "0c910a7f-0e96-449a-881d-1efa453b3c8d"
   },
   "outputs": [
    {
     "data": {
      "image/png": "[encoded data removed]",
      "text/plain": [
       "<Figure size 640x480 with 1 Axes>"
      ]
     },
     "metadata": {},
     "output_type": "display_data"
    }
   ],
   "source": [
    "import matplotlib.pyplot as plt\n",
    "\n",
    "plt.scatter(sum_purchases, visits)\n",
    "plt.title('Scatter Plot of Purchases vs. Visits')\n",
    "plt.xlabel('Sum of Purchases')\n",
    "plt.ylabel('Number of Visits');"
   ]
  },
  {
   "cell_type": "markdown",
   "metadata": {},
   "source": [
    "Чи варто щось змінити при підрахунку кореляції, аби коефіцієнт Пірсона показував коректну оцінку лінійної залежності? можна спробувати порахувати зміщену оцінку сукупності, можливо воно дасть ліпший результат."
   ]
  },
  {
   "cell_type": "markdown",
   "metadata": {
    "id": "4pEg0KzSQ6KA"
   },
   "source": [
    "**Завдання 7**. В попередньому завданні ми помітили, що викиди нам заважають отримати \"правдиве\" значення кореляції. Давайте вилучимо записи, які відповідають значенням з викидами в сумі покупок і обчисліть коеф. кореляції. Для цього поставте `threshold`, який дорінює середньому значенню + 2 стандартних вдіхилля суми покупок і всі значення, які більше за нього, будемо вважати викидами (є і інші правила для визначення викидів - з ним и познайомимось пізніше).\n",
    "\n",
    "Вилучіть значення з обох масивів і обчисліть коеф. кореляції Пірсона з допомогою `numpy` для кількості візитів і суми покупок без записів-викидів. Виведіть результат на екран, побудуйте діаграму розсіювання і проаналізуйте результат: що можемо сказати про залежність в даних?"
   ]
  },
  {
   "cell_type": "code",
   "execution_count": 216,
   "metadata": {
    "id": "Yj3Yfaf7UBbc"
   },
   "outputs": [],
   "source": [
    "threshold_purchases = purchases_mean + 2*standart_vid\n",
    "threshold_visits = visits_mean + 2*std_visits"
   ]
  },
  {
   "cell_type": "code",
   "execution_count": 218,
   "metadata": {},
   "outputs": [
    {
     "name": "stdout",
     "output_type": "stream",
     "text": [
      "[316, 493, 367, 153, 224, 121, 322, 450, 196, 397, 281, 239, 484, 124, 223, 448, 432, 255] [6, 2, 10, 3, 9, 9, 2, 3, 6, 6, 10, 2, 5, 10, 3, 5, 4, 7]\n"
     ]
    }
   ],
   "source": [
    "new_list_purchases = []\n",
    "new_list_visits = []\n",
    "for i in range(len(sum_purchases)):\n",
    "    if sum_purchases[i] < threshold_purchases and visits[i] < threshold_visits:\n",
    "        new_list_purchases.append(sum_purchases[i])\n",
    "        new_list_visits.append(visits[i])\n",
    "    else: \n",
    "        continue\n",
    "print(new_list_purchases, new_list_visits)"
   ]
  },
  {
   "cell_type": "code",
   "execution_count": 220,
   "metadata": {},
   "outputs": [
    {
     "data": {
      "text/plain": [
       "array([[ 1.        , -0.36852121],\n",
       "       [-0.36852121,  1.        ]])"
      ]
     },
     "execution_count": 220,
     "metadata": {},
     "output_type": "execute_result"
    }
   ],
   "source": [
    "r1 = np.corrcoef(new_list_purchases,new_list_visits)\n",
    "r1"
   ]
  },
  {
   "cell_type": "code",
   "execution_count": 222,
   "metadata": {},
   "outputs": [
    {
     "data": {
      "image/png": "[encoded data removed]",
      "text/plain": [
       "<Figure size 640x480 with 1 Axes>"
      ]
     },
     "metadata": {},
     "output_type": "display_data"
    }
   ],
   "source": [
    "plt.scatter(new_list_purchases, new_list_visits, color = 'red')\n",
    "plt.title('Scatter Plot of Purchases vs. Visits')\n",
    "plt.xlabel('Sum of Purchases')\n",
    "plt.ylabel('Number of Visits');"
   ]
  },
  {
   "cell_type": "markdown",
   "metadata": {},
   "source": [
    "Навіть прибравши викиди, зв'язок між змінними сильніше прослідковуватися"
   ]
  }
 ],
 "metadata": {
  "colab": {
   "provenance": []
  },
  "kernelspec": {
   "display_name": "Python 3 (ipykernel)",
   "language": "python",
   "name": "python3"
  },
  "language_info": {
   "codemirror_mode": {
    "name": "ipython",
    "version": 3
   },
   "file_extension": ".py",
   "mimetype": "text/x-python",
   "name": "python",
   "nbconvert_exporter": "python",
   "pygments_lexer": "ipython3",
   "version": "3.12.4"
  }
 },
 "nbformat": 4,
 "nbformat_minor": 4
}
