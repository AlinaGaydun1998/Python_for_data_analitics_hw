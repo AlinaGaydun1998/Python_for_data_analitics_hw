{
 "cells": [
  {
   "cell_type": "markdown",
   "id": "aed503f1",
   "metadata": {
    "ExecuteTime": {
     "end_time": "2023-07-27T20:14:32.871852Z",
     "start_time": "2023-07-27T20:14:31.036121Z"
    },
    "id": "aed503f1"
   },
   "source": [
    "У завданнях 1-4. Вам наданий простий код на Python, який не відповідає вказівкам PEP8. Ваше завдання — відредагувати код так, аби він відповідав PEP8. Напишіть після редагуванню коду, дотримання яких правил з pep8 ви досягли в відредагованій версі, наприклад\n",
    "```\n",
    "- додала пробіли навколо бінарного оператора\n",
    "- додала два порожні рядки між визначеннями функцій\n",
    "і тд\n",
    "```\n",
    "Також можна зазанчити використані правила коментарями по коду, а не окремим повідомленням.\n",
    "\n",
    "Відредагований код має виконувати весь той самий функціонал, але бути написаний відповідно до вимог до гарного коду на Python! Не забудьте запустити відредагований код, він має бути робочим."
   ]
  },
  {
   "cell_type": "markdown",
   "id": "e7fea147",
   "metadata": {
    "id": "e7fea147"
   },
   "source": [
    "Завдання 1."
   ]
  },
  {
   "cell_type": "code",
   "execution_count": 2,
   "id": "f63d84d7",
   "metadata": {
    "ExecuteTime": {
     "end_time": "2023-07-29T17:02:37.075783Z",
     "start_time": "2023-07-29T17:02:37.035259Z"
    },
    "id": "f63d84d7"
   },
   "outputs": [
    {
     "name": "stdout",
     "output_type": "stream",
     "text": [
      "Hello, John\n"
     ]
    },
    {
     "data": {
      "text/plain": [
       "None"
      ]
     },
     "metadata": {},
     "output_type": "display_data"
    },
    {
     "data": {
      "text/plain": [
       "8"
      ]
     },
     "metadata": {},
     "output_type": "display_data"
    }
   ],
   "source": [
    "def greet(name):print(f\"Hello, {name}\")\n",
    "def add(n1,n2):return n1+n2\n",
    "\n",
    "x = 5;y = 3\n",
    "display(greet(\"John\"),add(x,y))\n"
   ]
  },
  {
   "cell_type": "code",
   "execution_count": 6,
   "id": "41b7e672",
   "metadata": {
    "id": "41b7e672"
   },
   "outputs": [
    {
     "name": "stdout",
     "output_type": "stream",
     "text": [
      "Hello, John\n"
     ]
    },
    {
     "data": {
      "text/plain": [
       "None"
      ]
     },
     "metadata": {},
     "output_type": "display_data"
    },
    {
     "data": {
      "text/plain": [
       "8"
      ]
     },
     "metadata": {},
     "output_type": "display_data"
    }
   ],
   "source": [
    "def greet(name):\n",
    "    print(f\"Hello, {name}\") # відступ в середині функції\n",
    "\n",
    "def add(n1, n2):  \n",
    "    return n1 + n2   # відступ в середині функції і пробіли навколо оператора суми\n",
    "\n",
    "x = 5     # окремий рядок для кожної змінної, і забрала ; - вона зайва\n",
    "y = 3     # окремий рядок для кожної змінної\n",
    "display(greet(\"John\"), add(x,y))   # пробіл між аргументами\n"
   ]
  },
  {
   "cell_type": "markdown",
   "id": "cea88baf",
   "metadata": {
    "id": "cea88baf"
   },
   "source": [
    "Завдання 2."
   ]
  },
  {
   "cell_type": "code",
   "execution_count": 8,
   "id": "dfb6d2b5",
   "metadata": {
    "ExecuteTime": {
     "end_time": "2023-07-29T17:05:49.706098Z",
     "start_time": "2023-07-29T17:05:49.688255Z"
    },
    "id": "dfb6d2b5"
   },
   "outputs": [
    {
     "name": "stdout",
     "output_type": "stream",
     "text": [
      "Area: 78.53981633974483 Circumference: 31.41592653589793\n"
     ]
    }
   ],
   "source": [
    "from math import *\n",
    "def calcArea(r):return pi*r**2\n",
    "def calcCircumference(r):return 2*pi*r\n",
    "\n",
    "radius=5\n",
    "print(\"Area:\",calcArea(radius),\"Circumference:\",calcCircumference(radius))"
   ]
  },
  {
   "cell_type": "code",
   "execution_count": 12,
   "id": "df263672",
   "metadata": {
    "id": "df263672"
   },
   "outputs": [
    {
     "name": "stdout",
     "output_type": "stream",
     "text": [
      "Area: 78.53981633974483 Circumference: 31.41592653589793\n"
     ]
    }
   ],
   "source": [
    "from math import pi # імпорт конкретної змінної з модуля\n",
    "\n",
    "def calc_area(r):   # назва функції у форматі snake_case\n",
    "    return pi * r ** 2  # пробіли навколо операторів\n",
    "\n",
    "def calc_circumference(r):    # назва функції у форматі snake_case\n",
    "    return 2 * pi * r         # пробіли навколо операторів множення\n",
    "\n",
    "radius = 5    #пробіли навколо оператора присвоєння \n",
    "print(\"Area:\", calc_area(radius), \"Circumference:\", calc_circumference(radius)) #пробіли між аргументами "
   ]
  },
  {
   "cell_type": "markdown",
   "id": "1fd691b7",
   "metadata": {
    "id": "1fd691b7"
   },
   "source": [
    "Завдання 3."
   ]
  },
  {
   "cell_type": "code",
   "execution_count": 14,
   "id": "1d5acb2d",
   "metadata": {
    "ExecuteTime": {
     "end_time": "2023-07-29T17:06:18.612622Z",
     "start_time": "2023-07-29T17:06:18.598477Z"
    },
    "id": "1d5acb2d"
   },
   "outputs": [],
   "source": [
    "class animal: pass\n",
    "class dog(animal):\n",
    "    def __init__(self,name):\n",
    "        self.name=name\n",
    "        self.type='Dog'"
   ]
  },
  {
   "cell_type": "code",
   "execution_count": 18,
   "id": "0d4b2b8a",
   "metadata": {
    "id": "0d4b2b8a"
   },
   "outputs": [],
   "source": [
    "class Animal:   # назва класу з великої літери\n",
    "    pass     # пробіл(табуляція) в середині класу\n",
    "    \n",
    "class Dog(Animal): # назва класу з великої літери, назва класу `Animal` також має бути з великої літери.\n",
    "    def __init__(self, name): # пробіл між аргументами\n",
    "        self.name = name   # пробіли навколо оператора присвоєння\n",
    "        self.type = 'Dog'  # пробіли навколо оператора присвоєння"
   ]
  },
  {
   "cell_type": "markdown",
   "id": "7d1d4f5d",
   "metadata": {
    "id": "7d1d4f5d"
   },
   "source": [
    "Завдання 4."
   ]
  },
  {
   "cell_type": "code",
   "execution_count": 20,
   "id": "a91c1cc4",
   "metadata": {
    "ExecuteTime": {
     "end_time": "2023-07-29T17:06:47.180263Z",
     "start_time": "2023-07-29T17:06:47.173617Z"
    },
    "id": "a91c1cc4"
   },
   "outputs": [
    {
     "name": "stdout",
     "output_type": "stream",
     "text": [
      "1\n",
      "2\n",
      "3\n",
      "4\n",
      "5\n"
     ]
    }
   ],
   "source": [
    "list=[1,2,3,4,5]\n",
    "for i in range(len(list)):print(list[i])"
   ]
  },
  {
   "cell_type": "code",
   "execution_count": 24,
   "id": "c0f9541a",
   "metadata": {
    "id": "c0f9541a"
   },
   "outputs": [
    {
     "name": "stdout",
     "output_type": "stream",
     "text": [
      "1\n",
      "2\n",
      "3\n",
      "4\n",
      "5\n"
     ]
    }
   ],
   "source": [
    "num = [1, 2, 3, 4, 5]  # пробіли навколо оператора присвоєння та між цифрами після коми всередині списку; \n",
    "                       # старатися уникати вбудованих назв для опису змінної (list)\n",
    "for i in range(len(list)): \n",
    "    print(list[i])  # чотири пробіли як відступ всередині циклу "
   ]
  },
  {
   "cell_type": "markdown",
   "id": "8b0487e6",
   "metadata": {
    "id": "8b0487e6"
   },
   "source": [
    "5.У вас є DataFrame df, що представляє результати тестів студентів з математики, англійської мови та історії. Поточний код обчислює середній бал для кожного студента шляхом ітерації за рядками DataFrame за допомогою iterrows().\n",
    "\n",
    "Ваше завдання полягає в тому, щоб змінити код так, аби уникнути використання iterrows() і замість цього застосувати більш ефективне та читабельне рішення відповідно до правил, озвучених у лекції. Рефакторинг треба зробити лише частині, де рахуються середні, імпорт і визначення датафрейму лишаємо без змін."
   ]
  },
  {
   "cell_type": "code",
   "execution_count": 27,
   "id": "5b3cc648",
   "metadata": {
    "ExecuteTime": {
     "end_time": "2023-07-29T17:15:55.926882Z",
     "start_time": "2023-07-29T17:15:55.686415Z"
    },
    "id": "5b3cc648"
   },
   "outputs": [],
   "source": [
    "import pandas as pd\n",
    "\n",
    "df = pd.DataFrame({\n",
    "    'student': ['Alice', 'Bob', 'Charlie', 'David'],\n",
    "    'math_score': [89, 94, 77, 85],\n",
    "    'english_score': [92, 88, 79, 85],\n",
    "    'history_score': [84, 92, 81, 89]\n",
    "})"
   ]
  },
  {
   "cell_type": "code",
   "execution_count": 31,
   "id": "f5858889",
   "metadata": {
    "ExecuteTime": {
     "end_time": "2023-07-29T17:15:55.926882Z",
     "start_time": "2023-07-29T17:15:55.686415Z"
    },
    "id": "f5858889"
   },
   "outputs": [
    {
     "data": {
      "text/plain": [
       "[88.33333333333333, 91.33333333333333, 79.0, 86.33333333333333]"
      ]
     },
     "execution_count": 31,
     "metadata": {},
     "output_type": "execute_result"
    }
   ],
   "source": [
    "averages = []\n",
    "for _, row in df.iterrows():\n",
    "    averages.append((row['math_score'] + row['english_score'] + row['history_score']) / 3)\n",
    "\n",
    "df['average_score'] = averages\n",
    "averages"
   ]
  },
  {
   "cell_type": "code",
   "execution_count": 35,
   "id": "74cea4fc",
   "metadata": {
    "id": "74cea4fc"
   },
   "outputs": [
    {
     "data": {
      "text/plain": [
       "0    88.333333\n",
       "1    91.333333\n",
       "2    79.000000\n",
       "3    86.333333\n",
       "Name: avg_score, dtype: float64"
      ]
     },
     "execution_count": 35,
     "metadata": {},
     "output_type": "execute_result"
    }
   ],
   "source": [
    "df['avg_score'] = (df['math_score'] + df['english_score'] + df['history_score'])/ 3\n",
    "df['avg_score']"
   ]
  },
  {
   "cell_type": "markdown",
   "id": "34fb1db9",
   "metadata": {
    "id": "34fb1db9"
   },
   "source": [
    "6.У Вас є великий DataFrame df, що представляє транзакції продажу в магазині. Цей DataFrame містить понад 1 мільйон рядків і кілька стовпців, зокрема «product_name», «product_category», «product_price» і «transaction_date».\n",
    "\n",
    "І «product_name», і «product_category» є рядками, що представляють численні, але обмежені унікальні назви продуктів і категорії відповідно.\n",
    "\n",
    "Напишіть код для ефективного перетворення стовпців «product_name» і «product_category» на категорійний тип для ефективного використання пам’яті.\n",
    "Спробуйте вирішити це завдання, мінімізуючи використання пам'яті та зберігаючи читабельність коду. Крім того, виміряйте використання пам’яті до та після перетворення, щоб продемонструвати підвищення ефективності.\n",
    "\n",
    "Порівняйте кількість памʼяті, яку займає наданий набір даних і новий, створений Вами. В лекції був приклад. В скільки разів менше памʼяті займає новий датафрейм?"
   ]
  },
  {
   "cell_type": "code",
   "execution_count": 37,
   "id": "d4926909",
   "metadata": {
    "ExecuteTime": {
     "end_time": "2023-07-29T21:19:30.009527Z",
     "start_time": "2023-07-29T21:19:29.595210Z"
    },
    "id": "d4926909"
   },
   "outputs": [],
   "source": [
    "import pandas as pd\n",
    "import numpy as np\n",
    "\n",
    "np.random.seed(0)\n",
    "\n",
    "products = ['apple', 'banana', 'cherry', 'dates', 'elderberry']\n",
    "categories = ['fruit', 'fruit', 'fruit', 'fruit', 'fruit']\n",
    "\n",
    "N_ROWS = 10**6\n",
    "df = pd.DataFrame({\n",
    "    'product_name': np.random.choice(products, N_ROWS),\n",
    "    'product_category': np.random.choice(categories, N_ROWS),\n",
    "    'product_price': np.random.uniform(1, 10, N_ROWS),\n",
    "    'transaction_date': pd.date_range(start='1/1/2000', periods=N_ROWS, freq='h')\n",
    "})\n"
   ]
  },
  {
   "cell_type": "code",
   "execution_count": 39,
   "id": "cbaeb10d-7468-4ed3-8bc9-3ce222dbc8a4",
   "metadata": {},
   "outputs": [
    {
     "data": {
      "text/plain": [
       "32000000"
      ]
     },
     "execution_count": 39,
     "metadata": {},
     "output_type": "execute_result"
    }
   ],
   "source": [
    "df.memory_usage(index=False).sum()"
   ]
  },
  {
   "cell_type": "code",
   "execution_count": 43,
   "id": "dac6add9-7ef2-40c7-9dfd-5cc7b5926edb",
   "metadata": {},
   "outputs": [
    {
     "data": {
      "text/plain": [
       "18000328"
      ]
     },
     "execution_count": 43,
     "metadata": {},
     "output_type": "execute_result"
    }
   ],
   "source": [
    "categorical_columns = ['product_name', 'product_category']\n",
    "for col in categorical_columns:\n",
    "    df[col] =  pd.Categorical(df[col])\n",
    "\n",
    "df.memory_usage(index=False).sum()"
   ]
  },
  {
   "cell_type": "code",
   "execution_count": 45,
   "id": "10ee6f7f-ab61-4760-9c2c-fd80a8c43802",
   "metadata": {},
   "outputs": [
    {
     "name": "stdout",
     "output_type": "stream",
     "text": [
      "Маємо зниження витрат памʼяті на 43.75% !\n"
     ]
    }
   ],
   "source": [
    "print(f\"Маємо зниження витрат памʼяті на {round((1-18000328/32000000)*100,2)}% !\")"
   ]
  },
  {
   "cell_type": "markdown",
   "id": "131cc08d",
   "metadata": {
    "id": "131cc08d"
   },
   "source": [
    "7.В цьому завданні кілька пунктів. Треба виконати усі послідовно.   \n",
    "    7.1. Завантажте дані у pandas dataframe з файла `ecommerce_data.csv`. Обовʼязково при завантаженні вкажіть параметр `encoding = 'ISO-8859-1'`, без нього буде помилка.  \n",
    "    7.2. Заповніть пропущені значення в колонці CustomerID на -1 та перетворіть тип цієї колонки на str, адже зараз вона типу float, а це не правильний тип даних для ідентифікатора клієнта.  \n",
    "    7.3. З допомогою бібліотеки sweetviz побудуйте html звіт, який порівнює дані для країни \"Germany\" і країни \"France\". У Вас можуть виникнути багато попереджень (Warning), їх рекомендую вимкнути наступним шматком коду   \n",
    "    \n",
    "   \n",
    "    import warnings\n",
    "\n",
    "    with warnings.catch_warnings(record=True):\n",
    "        # your code\n",
    "    \n",
    "    \n",
    "   7.4.Напишіть 5 відмінностей для двох зазначених країн на основі побудованого звіту, без виконання додаткового аналізу іншими інструментами."
   ]
  },
  {
   "cell_type": "code",
   "execution_count": 59,
   "id": "17200e77",
   "metadata": {
    "id": "17200e77"
   },
   "outputs": [],
   "source": [
    "import pandas as pd\n",
    "ecommerce_data = pd.read_csv('../data/ecommerce_data.csv', encoding = 'ISO-8859-1') "
   ]
  },
  {
   "cell_type": "code",
   "execution_count": 63,
   "id": "d68d1e8f-5cd4-43f4-99e9-2ee7437faf9a",
   "metadata": {},
   "outputs": [
    {
     "data": {
      "text/plain": [
       "InvoiceNo           0\n",
       "StockCode           0\n",
       "Description      1454\n",
       "Quantity            0\n",
       "InvoiceDate         0\n",
       "UnitPrice           0\n",
       "CustomerID     135080\n",
       "Country             0\n",
       "dtype: int64"
      ]
     },
     "execution_count": 63,
     "metadata": {},
     "output_type": "execute_result"
    }
   ],
   "source": [
    "ecommerce_data.isnull().sum()"
   ]
  },
  {
   "cell_type": "code",
   "execution_count": 89,
   "id": "792dc39d-64f8-471a-ac3e-07f9e809936a",
   "metadata": {},
   "outputs": [],
   "source": [
    "clean_data = ecommerce_data.copy()\n",
    "clean_data['CustomerID'] = clean_data['CustomerID'].fillna('-1').astype('str')"
   ]
  },
  {
   "cell_type": "code",
   "execution_count": 151,
   "id": "0501cb33-efe9-4ddd-9ec0-d35d872c86bc",
   "metadata": {},
   "outputs": [
    {
     "data": {
      "text/plain": [
       "Country\n",
       "Australia                 83653\n",
       "Austria                    4827\n",
       "Bahrain                     260\n",
       "Belgium                   23152\n",
       "Brazil                      356\n",
       "Canada                     2763\n",
       "Channel Islands            9479\n",
       "Cyprus                     6317\n",
       "Czech Republic              592\n",
       "Denmark                    8188\n",
       "EIRE                     142637\n",
       "European Community          497\n",
       "Finland                   10666\n",
       "France                   110480\n",
       "Germany                  117448\n",
       "Greece                     1556\n",
       "Hong Kong                  4769\n",
       "Iceland                    2458\n",
       "Israel                     4353\n",
       "Italy                      7999\n",
       "Japan                     25218\n",
       "Lebanon                     386\n",
       "Lithuania                   652\n",
       "Malta                       944\n",
       "Netherlands              200128\n",
       "Norway                    19247\n",
       "Poland                     3653\n",
       "Portugal                  16180\n",
       "RSA                         352\n",
       "Saudi Arabia                 75\n",
       "Singapore                  5234\n",
       "Spain                     26824\n",
       "Sweden                    35637\n",
       "Switzerland               30325\n",
       "USA                        1034\n",
       "United Arab Emirates        982\n",
       "United Kingdom          4263829\n",
       "Unspecified                3300\n",
       "Name: Quantity, dtype: int64"
      ]
     },
     "execution_count": 151,
     "metadata": {},
     "output_type": "execute_result"
    }
   ],
   "source": [
    "clean_data.groupby('Country')['Quantity'].sum()"
   ]
  },
  {
   "cell_type": "code",
   "execution_count": 105,
   "id": "4742df1f-3c6c-4f23-aaca-d8c4ab3d1614",
   "metadata": {},
   "outputs": [
    {
     "data": {
      "text/plain": [
       "CustomerID\n",
       "<class 'str'>    541909\n",
       "Name: count, dtype: int64"
      ]
     },
     "execution_count": 105,
     "metadata": {},
     "output_type": "execute_result"
    }
   ],
   "source": [
    "clean_data['CustomerID'].apply(type).value_counts()"
   ]
  },
  {
   "cell_type": "code",
   "execution_count": 119,
   "id": "66b8e301-9edc-406c-acb3-402439687ba4",
   "metadata": {
    "scrolled": true
   },
   "outputs": [
    {
     "data": {
      "application/vnd.jupyter.widget-view+json": {
       "model_id": "012a41c4c2614ae0b9eb8391a40ecf5b",
       "version_major": 2,
       "version_minor": 0
      },
      "text/plain": [
       "                                             |      | [  0%]   00:00 -> (? left)"
      ]
     },
     "metadata": {},
     "output_type": "display_data"
    },
    {
     "name": "stdout",
     "output_type": "stream",
     "text": [
      "Report ecommerce_data_compare_report.html was generated! NOTEBOOK/COLAB USERS: the web browser MAY not pop up, regardless, the report IS saved in your notebook/colab files.\n"
     ]
    }
   ],
   "source": [
    "import sweetviz as sv\n",
    "import matplotlib \n",
    "import warnings\n",
    "\n",
    "# Фільтруємо дані для кожної країни\n",
    "germany_data = clean_data[clean_data['Country'] == 'Germany']\n",
    "france_data = clean_data[clean_data['Country'] == 'France']\n",
    "\n",
    "with warnings.catch_warnings(record=True):\n",
    "    compare_report = sv.compare([germany_data, 'Germany'] , [france_data, 'France'])\n",
    "    compare_report.show_html('ecommerce_data_compare_report.html')\n"
   ]
  },
  {
   "cell_type": "markdown",
   "id": "d1eb72b2-15bb-45a2-bb3e-2b31241f43b9",
   "metadata": {},
   "source": [
    "1. Максимальна кількість купленого товару за одну транзакцію \"Quantity\" в Німеччині (600) менша ніж у Франції (912).\n",
    "2. Максимальне значення UnitPrice для Франції 4161 за одиницю в той час як в Німеччині - 600. Це свідчить про те, що у Франції є товари з більш високою ціною, порівняно з Німеччиною.\n",
    "Крім того, сума цін за всі замовлення у Франції значно вища (43,032 проти 37,666 у Німеччині).\n",
    "3. Стандартне відхилення (STD) і дисперсія (VAR) кількості значно більші у Німеччині (21.4 і 459 відповідно), порівняно з Францією (17.9 і 319). Це вказує на більшу варіативність кількості замовлених одиниць в Німеччині.\n",
    "4. Середнє значення кількості замовлених товарів вище у Франції (12), ніж у Німеччині (11), що може свідчити про те, що середній розмір замовлення у Франції дещо більший.\n",
    "5. Найбільш часті значення кількості замовлених товарів у Німеччині — 12, 24 і 4, тоді як у Франції частіше зустрічаються значення 12, 20 і 24. Це свідчить про те, що в обох країнах є схожі популярні кількості, але структура попиту може трохи відрізнятися."
   ]
  },
  {
   "cell_type": "markdown",
   "id": "07ae375a",
   "metadata": {
    "ExecuteTime": {
     "end_time": "2023-07-30T18:55:42.650457Z",
     "start_time": "2023-07-30T18:55:42.635729Z"
    },
    "id": "07ae375a"
   },
   "source": [
    "8.З допомогою ChatGPT виявіть, чи є та які помилки в наступному коді.  \n",
    "Попросіть після цього переписати код із дотриманням PEP8. Проаналізуйте результат. Чи справді ChatGPT виправив всі стилістичні помилки? Якщо ні, напишіть йому ще кілька запитів, аби код відповідав вимогам PEP8.  \n",
    "Вставте фінальну версію коду з чату у ноутбук та запустіть на заданому списку. Має вертатись 50.  \n",
    "Напишіть, які промпти (інструкції) при зверненні до ChatGPT ви застосували та додайте скріншот(-и) з промптами та відповідями чата.  \n",
    "Якщо зробили висновки при виконанні цього завдання, то діліться також :)\n",
    "\n",
    "**ЯК ВСТАВИТИ СКРІНШОТ в Jupyter Notebook** :\n",
    "1. Створіть нову Markdown клітинку\n",
    "2. В новоствореній клітинці обираєте в меню Jupyter Notebook Edit -> Insert Image\n",
    "3. Обираєте картинку\n",
    "4. В клітинці має зʼявитись текст, який містить картинку. Запустіть клітинку.\n",
    "\n",
    "Або можна просто перетягнути картинку в Markdown клітинку."
   ]
  },
  {
   "cell_type": "code",
   "execution_count": 154,
   "id": "a5c010c4",
   "metadata": {
    "ExecuteTime": {
     "end_time": "2023-07-30T19:16:20.977219Z",
     "start_time": "2023-07-30T19:16:20.973688Z"
    },
    "id": "a5c010c4"
   },
   "outputs": [],
   "source": [
    "def CalculateVariance(nl):\n",
    "    sum_list = 0\n",
    "    for n in nl:\n",
    "        sum_list = sum_list + n\n",
    "    mean = sum_list / len(nl)\n",
    "    sum_squares = 0\n",
    "    for n in nl:\n",
    "        sum_squares = sum_squares + n**2\n",
    "    mean_squares = sum_squares / len(nl)\n",
    "    return mean_squares"
   ]
  },
  {
   "cell_type": "code",
   "execution_count": 156,
   "id": "24bb3f81",
   "metadata": {
    "ExecuteTime": {
     "end_time": "2023-07-30T19:16:09.201841Z",
     "start_time": "2023-07-30T19:16:09.199174Z"
    },
    "id": "24bb3f81"
   },
   "outputs": [],
   "source": [
    "input_list = [75, 80, 85, 90, 95]"
   ]
  },
  {
   "cell_type": "code",
   "execution_count": 158,
   "id": "2e376748-c66e-44db-ba82-3e2b1329e57a",
   "metadata": {},
   "outputs": [
    {
     "data": {
      "text/plain": [
       "7275.0"
      ]
     },
     "execution_count": 158,
     "metadata": {},
     "output_type": "execute_result"
    }
   ],
   "source": [
    "CalculateVariance(input_list)"
   ]
  },
  {
   "cell_type": "code",
   "execution_count": 160,
   "id": "cbd0a7c6-b45e-4fda-a4c7-11d7e61e552d",
   "metadata": {},
   "outputs": [],
   "source": [
    "def calculate_variance(number_list):\n",
    "    \"\"\"\n",
    "    Calculate the variance of a list of numbers.\n",
    "    \n",
    "    Parameters:\n",
    "        number_list (list): A list of numerical values.\n",
    "        \n",
    "    Returns:\n",
    "        float: The variance of the list.\n",
    "    \"\"\"\n",
    "    # Calculate the mean of the list\n",
    "    mean = sum(number_list) / len(number_list)\n",
    "    \n",
    "    # Calculate the mean of the squares\n",
    "    mean_squares = sum(n**2 for n in number_list) / len(number_list)\n",
    "    \n",
    "    # Return the variance\n",
    "    return mean_squares - mean**2\n"
   ]
  },
  {
   "cell_type": "code",
   "execution_count": 162,
   "id": "6f3f2100-7837-4763-a4fb-45be3cf5a048",
   "metadata": {},
   "outputs": [
    {
     "data": {
      "text/plain": [
       "50.0"
      ]
     },
     "execution_count": 162,
     "metadata": {},
     "output_type": "execute_result"
    }
   ],
   "source": [
    "calculate_variance(input_list)"
   ]
  },
  {
   "cell_type": "markdown",
   "id": "b5ed7662-32f3-4fed-b41a-750faff423e2",
   "metadata": {},
   "source": []
  }
 ],
 "metadata": {
  "colab": {
   "provenance": []
  },
  "kernelspec": {
   "display_name": "Python 3 (ipykernel)",
   "language": "python",
   "name": "python3"
  },
  "language_info": {
   "codemirror_mode": {
    "name": "ipython",
    "version": 3
   },
   "file_extension": ".py",
   "mimetype": "text/x-python",
   "name": "python",
   "nbconvert_exporter": "python",
   "pygments_lexer": "ipython3",
   "version": "3.12.4"
  },
  "toc": {
   "base_numbering": 1,
   "nav_menu": {},
   "number_sections": true,
   "sideBar": true,
   "skip_h1_title": false,
   "title_cell": "Table of Contents",
   "title_sidebar": "Contents",
   "toc_cell": false,
   "toc_position": {},
   "toc_section_display": true,
   "toc_window_display": false
  }
 },
 "nbformat": 4,
 "nbformat_minor": 5
}
