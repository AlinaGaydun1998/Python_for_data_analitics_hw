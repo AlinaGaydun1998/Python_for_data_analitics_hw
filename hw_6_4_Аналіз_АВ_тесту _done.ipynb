{
 "cells": [
  {
   "cell_type": "markdown",
   "metadata": {
    "id": "e411f482"
   },
   "source": [
    "## Аналіз A/B тесту"
   ]
  },
  {
   "cell_type": "markdown",
   "metadata": {
    "ExecuteTime": {
     "end_time": "2022-12-10T17:43:42.137588Z",
     "start_time": "2022-12-10T17:43:42.124712Z"
    },
    "id": "f41183ed"
   },
   "source": [
    "Маємо проаналізувати дані A/B тесту в популярній [грі Cookie Cats](https://www.facebook.com/cookiecatsgame). Це класична гра-головоломка в стилі «з’єднай три», де гравець повинен з’єднати плитки одного кольору, щоб очистити дошку та виграти рівень. На дошці також зображені співаючі котики :)\n",
    "\n",
    "Під час проходження гри гравці стикаються з воротами, які змушують їх чекати деякий час, перш ніж вони зможуть прогресувати або зробити покупку в додатку. У цьому блоці завдань ми проаналізуємо результати A/B тесту, коли перші ворота в Cookie Cats було переміщено з рівня 30 на рівень 40. Зокрема, ми проаналізуємо вплив на утримання (retention) гравців. Тобто хочемо зрозуміти чи переміщення воріт на 10 рівнів пізніше якимось чином вплинуло на те, що користувачі перестають грати в гру раніше чи пізніше з точки зору кількості їх днів з моменту встановлення гри.\n",
    "\n",
    "Будемо працювати з даними з файлу `cookie_cats.csv`. Змінні в даних наступні:\n",
    "\n",
    "- userid - унікальний номер, який ідентифікує кожного гравця.\n",
    "- version - чи потрапив гравець в контрольну групу (gate_30 - ворота на 30 рівні) чи тестову групу (gate_40 - ворота на 40 рівні).\n",
    "- sum_gamerounds - кількість ігрових раундів, зіграних гравцем протягом першого тижня після встановлення\n",
    "- retention_1 - чи через 1 день після встановлення гравець повернувся і почав грати?\n",
    "- retention_7 - чи через 7 днів після встановлення гравець повернувся і почав грати?\n",
    "\n",
    "Коли гравець встановлював гру, його випадковим чином призначали до групи gate_30 або gate_40."
   ]
  },
  {
   "cell_type": "markdown",
   "metadata": {
    "id": "22f03df4"
   },
   "source": [
    "1. Зчитайте дані АВ тесту у змінну `df` та виведіть середнє значення показника показник `retention_7` (утримання на 7 день) по версіям гри. Сформулюйте гіпотезу: яка версія дає краще утримання через 7 днів після встановлення гри?"
   ]
  },
  {
   "cell_type": "code",
   "execution_count": 1,
   "metadata": {
    "id": "MVzMTs-jh22b"
   },
   "outputs": [],
   "source": [
    "import pandas as pd\n",
    "import numpy as np\n",
    "\n",
    "df = pd.read_csv('/Users/alinagajdun/Documents/python for DA/Lecture/Статистика/data_statistics/cookie_cats.csv')"
   ]
  },
  {
   "cell_type": "code",
   "execution_count": 2,
   "metadata": {},
   "outputs": [
    {
     "name": "stdout",
     "output_type": "stream",
     "text": [
      "<class 'pandas.core.frame.DataFrame'>\n",
      "RangeIndex: 90189 entries, 0 to 90188\n",
      "Data columns (total 5 columns):\n",
      " #   Column          Non-Null Count  Dtype \n",
      "---  ------          --------------  ----- \n",
      " 0   userid          90189 non-null  int64 \n",
      " 1   version         90189 non-null  object\n",
      " 2   sum_gamerounds  90189 non-null  int64 \n",
      " 3   retention_1     90189 non-null  bool  \n",
      " 4   retention_7     90189 non-null  bool  \n",
      "dtypes: bool(2), int64(2), object(1)\n",
      "memory usage: 2.2+ MB\n"
     ]
    }
   ],
   "source": [
    "df.info()"
   ]
  },
  {
   "cell_type": "code",
   "execution_count": 5,
   "metadata": {},
   "outputs": [
    {
     "data": {
      "text/plain": [
       "Series([], Name: version, dtype: int64)"
      ]
     },
     "execution_count": 5,
     "metadata": {},
     "output_type": "execute_result"
    }
   ],
   "source": [
    "# Перевіримо чи дані готові до аналізу і вибірки не перетинаються\n",
    "\n",
    "duplicates = df.groupby('userid')['version'].nunique()\n",
    "duplicates[duplicates > 1]"
   ]
  },
  {
   "cell_type": "code",
   "execution_count": 7,
   "metadata": {},
   "outputs": [
    {
     "name": "stdout",
     "output_type": "stream",
     "text": [
      "Середнє групи g30: 0.1902, \n",
      "Середнє групи g40: 0.182.\n"
     ]
    }
   ],
   "source": [
    "mean_g30, mean_g40 = df.groupby('version')['retention_7'].mean()\n",
    "print(f'Середнє групи g30: {round(mean_g30, 5)}, \\nСереднє групи g40: {round(mean_g40, 5)}.')"
   ]
  },
  {
   "cell_type": "markdown",
   "metadata": {},
   "source": [
    "#### Гіпотеза: \n",
    "Група gate30 має більший відсоток повернення до гри через 7 днів ніж група gate40."
   ]
  },
  {
   "cell_type": "markdown",
   "metadata": {
    "id": "74e9c6ca"
   },
   "source": [
    "2. Перевірте з допомогою z-тесту аналогічно до прикладу в лекції, чи дає якась з версій гри кращий показник `retention_7` на рівні значущості 0.05. Обчисліть також довірчі інтервали для двох вибірок. Виведіть результат у форматі:\n",
    "```\n",
    "z statistic: ...\n",
    "p-value: ...\n",
    "Довірчий інтервал 95% для групи control: [..., ...]\n",
    "Довірчий інтервал 95% для групи treatment: [..., ...]\n",
    "```\n",
    "де замість `...` - обчислені значення. В якості висновка дайте відповідь на два питання:  \n",
    "    1. чи є статистична значущою різниця між поведінкою користувачів у різних версіях гри?   \n",
    "    2. чи перетинаються довірчі інтервали утримання користувачів з різних версій гри? Про що це каже?  \n",
    "    \n",
    "Зверніть увагу, в такому і схожому завданнях ми використовуєм `proportion` Z-тест. Це тому що в нас залежна змінна має бінарне значення (повернеться аби ні користувач, чи клікне або ні користувач в інших ситуаціях - всього два можливих значення в змінної: 0/1, True/False ). Якщо б ми вимірювали скажімо чи є стат. значущою різниця між вагою чоловіків і жінок в певній вибірці, ми б використовувавли функцію `statsmodels.stats.ztest`, бо залежна змінна `вага` є неперервною (тип float, замість типу int чи bool і тільки двох можливих значень)."
   ]
  },
  {
   "cell_type": "code",
   "execution_count": 9,
   "metadata": {},
   "outputs": [],
   "source": [
    "from statsmodels.stats.proportion import proportions_ztest, proportion_confint"
   ]
  },
  {
   "cell_type": "code",
   "execution_count": 11,
   "metadata": {},
   "outputs": [
    {
     "data": {
      "text/plain": [
       "version\n",
       "gate_30    8502\n",
       "gate_40    8279\n",
       "Name: retention_7, dtype: int64"
      ]
     },
     "metadata": {},
     "output_type": "display_data"
    },
    {
     "data": {
      "text/plain": [
       "version\n",
       "gate_30    44700\n",
       "gate_40    45489\n",
       "Name: retention_7, dtype: int64"
      ]
     },
     "metadata": {},
     "output_type": "display_data"
    }
   ],
   "source": [
    "total_successes = df.groupby('version')['retention_7'].sum()\n",
    "total = df.groupby('version')['retention_7'].count()\n",
    "display(total_successes, total)"
   ]
  },
  {
   "cell_type": "code",
   "execution_count": 13,
   "metadata": {},
   "outputs": [
    {
     "name": "stdout",
     "output_type": "stream",
     "text": [
      "z statistic: 3.164\n",
      "p-value: 0.0016\n",
      "Довірчий інтервал 95% для групи gate_30: [0.187, 0.194]\n",
      "Довірчий інтервал 95% для групи gate_40: [0.178, 0.186]\n"
     ]
    }
   ],
   "source": [
    "z_stat, pval = proportions_ztest(total_successes,total)\n",
    "(lower_g30, lower_g40), (upper_g30, upper_g40) = proportion_confint(total_successes, total, alpha=0.05)\n",
    "\n",
    "print(f'z statistic: {z_stat:.3f}')\n",
    "print(f'p-value: {pval:.4f}')\n",
    "print(f'Довірчий інтервал 95% для групи gate_30: [{lower_g30:.3f}, {upper_g30:.3f}]')\n",
    "print(f'Довірчий інтервал 95% для групи gate_40: [{lower_g40:.3f}, {upper_g40:.3f}]')"
   ]
  },
  {
   "cell_type": "code",
   "execution_count": 15,
   "metadata": {},
   "outputs": [
    {
     "data": {
      "image/png": "[encoded data removed]",
      "text/plain": [
       "<Figure size 640x480 with 1 Axes>"
      ]
     },
     "metadata": {},
     "output_type": "display_data"
    }
   ],
   "source": [
    "import matplotlib.pyplot as plt\n",
    "\n",
    "# Створення графіку\n",
    "labels = ['gate_30', 'gate_40']\n",
    "x = np.arange(len(labels))\n",
    "\n",
    "plt.bar(x, (mean_g30, mean_g40), yerr=[((mean_g30 - lower_g30), (mean_g40 - lower_g40)), ((upper_g30 - mean_g30), (upper_g40 -mean_g40))]) \n",
    "plt.xticks(x, labels)\n",
    "plt.ylabel('Retention Rate')\n",
    "plt.title('Retention Rate with Confidence Intervals')\n",
    "plt.show()"
   ]
  },
  {
   "cell_type": "markdown",
   "metadata": {},
   "source": [
    "### Висновок:\n",
    "З ймовірністю 95% ми відхиляємо гіпотезу що групи версій gate_30 та gate_40 мають однакове утримання гравців через 7 днів. Ми отримали статистично значущу різницю в утриманні між групами gate_30 та gate_40 через 7 днів.\n",
    "\n",
    "Наші довірчі інтервали не перетинаються, це може означати що з рівнем довіри 95% істинне значення часток утримання наших груп буде міститися в побудованих довірчих інтервалах і вони будуть різні. Тому версія гри, де ворота будуть з'являтися на 40 левелі, буде утримувати гравців менше ніж версія де ворота на 30 левелі гри."
   ]
  },
  {
   "cell_type": "markdown",
   "metadata": {
    "ExecuteTime": {
     "end_time": "2022-12-10T20:50:10.709766Z",
     "start_time": "2022-12-10T20:50:10.639999Z"
    },
    "id": "076cd867"
   },
   "source": [
    "3. Є ще один тип тестів, який використовується для бінарної метрики як от \"зробить юзер дію, чи ні\" - тест [**Хі-квадрат**](https://www.bmj.com/about-bmj/resources-readers/publications/statistics-square-one/8-chi-squared-tests) (ще одне [пояснення](https://www.scribbr.com/statistics/chi-square-tests/) тесту з прикладами). В нього інші гіпотези Н0 і Н1 на відміну від z- та t-тестів. А також цей тест можна використовувати, якщо в нас більше за 2 досліджувані групи, тобто в нас не А/В тест, а А/B/C/D, наприклад.  \n",
    "\n",
    "В **z- та t-тестах** (які відрізняються тим, що ми в першому не знаємо дисперсію генеральної сукупності, але якщо в нас великий набір даних, то ці два тести дають дуже схожі результати) **ми перевіряємо, чи є різниця у середніх показниках по групам користувачів**.  \n",
    "\n",
    "А в **тесті Хі-квадрат ми перевіряємо чи є звʼязок між групою користувача і тим, чи він зробить цікаву нам дію**. Це ніби дослідження одного і того самого, але дещо різними способами. Для перевірки, можна виконувати кілька тестів (особливо, якщо один дає якийсь непереконливий результат типу р-значення 0.07 - наче і fail to regect H0 на рівні стат значущості 5%, але цікаво, що скажуть інші тести), тож, зробимо і ми тест хі-квадрат та порівняємо його результат з z-тестом.\n",
    "\n",
    "Про різницю між тестами можна почитати ще [тут](https://stats.stackexchange.com/a/178860) - це просто пояснення користувача стековерфлоу, але там розумні люди сидять.\n",
    "\n",
    "Для проведення хі-квадрат тесту скористаємось функцією з `scipy.stats` `chi2_contingency` для обчислення статистики хі-квадрат і р-значення для перевірки конкретної гіпотези. У цю функцію вам треба передати таблицю 2х2: кількість випадків для кожної версії гри і значення `retention_7`.\n",
    "\n",
    "**Задача**: виконайте тест хі-квадрат на рівні значущості 5% аби визначити, чи є залежність між версією гри та тим, чи зайде гравець на 7ий день після встановлення гри.\n",
    "Тут гіпотези наступні\n",
    "- Н0: значення retention_7 не залежить від версії гри\n",
    "- Н1: є залежність між версією гри і значенням retention_7\n",
    "\n",
    "Виведіть p-значення та зробіть висновок.\n"
   ]
  },
  {
   "cell_type": "code",
   "execution_count": 223,
   "metadata": {
    "id": "kcwD-91Fh84n"
   },
   "outputs": [
    {
     "name": "stdout",
     "output_type": "stream",
     "text": [
      "Requirement already satisfied: scipy in /opt/anaconda3/lib/python3.12/site-packages (1.13.1)\n",
      "Requirement already satisfied: numpy<2.3,>=1.22.4 in /opt/anaconda3/lib/python3.12/site-packages (from scipy) (1.26.4)\n",
      "Note: you may need to restart the kernel to use updated packages.\n"
     ]
    }
   ],
   "source": [
    "pip install scipy"
   ]
  },
  {
   "cell_type": "code",
   "execution_count": 17,
   "metadata": {},
   "outputs": [],
   "source": [
    "from scipy.stats import chi2_contingency"
   ]
  },
  {
   "cell_type": "code",
   "execution_count": 33,
   "metadata": {},
   "outputs": [
    {
     "data": {
      "text/html": [
       "<div>\n",
       "<style scoped>\n",
       "    .dataframe tbody tr th:only-of-type {\n",
       "        vertical-align: middle;\n",
       "    }\n",
       "\n",
       "    .dataframe tbody tr th {\n",
       "        vertical-align: top;\n",
       "    }\n",
       "\n",
       "    .dataframe thead th {\n",
       "        text-align: right;\n",
       "    }\n",
       "</style>\n",
       "<table border=\"1\" class=\"dataframe\">\n",
       "  <thead>\n",
       "    <tr style=\"text-align: right;\">\n",
       "      <th>retention_7</th>\n",
       "      <th>False</th>\n",
       "      <th>True</th>\n",
       "    </tr>\n",
       "    <tr>\n",
       "      <th>version</th>\n",
       "      <th></th>\n",
       "      <th></th>\n",
       "    </tr>\n",
       "  </thead>\n",
       "  <tbody>\n",
       "    <tr>\n",
       "      <th>gate_30</th>\n",
       "      <td>36198</td>\n",
       "      <td>8502</td>\n",
       "    </tr>\n",
       "    <tr>\n",
       "      <th>gate_40</th>\n",
       "      <td>37210</td>\n",
       "      <td>8279</td>\n",
       "    </tr>\n",
       "  </tbody>\n",
       "</table>\n",
       "</div>"
      ],
      "text/plain": [
       "retention_7  False  True \n",
       "version                  \n",
       "gate_30      36198   8502\n",
       "gate_40      37210   8279"
      ]
     },
     "execution_count": 33,
     "metadata": {},
     "output_type": "execute_result"
    }
   ],
   "source": [
    "#підготуємо контингентну таблицю\n",
    "contingency_table = pd.crosstab(df['version'], df['retention_7'])\n",
    "contingency_table"
   ]
  },
  {
   "cell_type": "code",
   "execution_count": 41,
   "metadata": {},
   "outputs": [
    {
     "name": "stdout",
     "output_type": "stream",
     "text": [
      "Chi2 стат: 9.959086799559167\n",
      "p-значення: 0.00160057426790583\n",
      "Ступені свободи: 1\n",
      "Очікувані частоти: \n",
      "[[36382.90257127  8317.09742873]\n",
      " [37025.09742873  8463.90257127]]\n"
     ]
    }
   ],
   "source": [
    "stat, p, dof, expected = chi2_contingency(contingency_table)\n",
    "print(f\"Chi2 стат: {stat}\")\n",
    "print(f\"p-значення: {p}\")\n",
    "print(f\"Ступені свободи: {dof}\")\n",
    "print(f\"Очікувані частоти: \\n{expected}\")"
   ]
  },
  {
   "cell_type": "code",
   "execution_count": 47,
   "metadata": {},
   "outputs": [
    {
     "name": "stdout",
     "output_type": "stream",
     "text": [
      "Залежить (відхиляємо H0)\n"
     ]
    }
   ],
   "source": [
    "alpha = 0.05\n",
    "if p <= alpha: \n",
    "    print('Залежить (відхиляємо H0)') \n",
    "else: print('Незалежить (H0 приймаємо)')"
   ]
  },
  {
   "cell_type": "markdown",
   "metadata": {},
   "source": [
    "Отже, ми відхиляємо гіпотезу що значення утримання користувачів не залежить від версії гри. Маємо статистично значущий результат і підтверджуємо висновки отримані в proportion Z-тест. "
   ]
  }
 ],
 "metadata": {
  "colab": {
   "provenance": []
  },
  "kernelspec": {
   "display_name": "Python 3 (ipykernel)",
   "language": "python",
   "name": "python3"
  },
  "language_info": {
   "codemirror_mode": {
    "name": "ipython",
    "version": 3
   },
   "file_extension": ".py",
   "mimetype": "text/x-python",
   "name": "python",
   "nbconvert_exporter": "python",
   "pygments_lexer": "ipython3",
   "version": "3.12.4"
  }
 },
 "nbformat": 4,
 "nbformat_minor": 4
}
